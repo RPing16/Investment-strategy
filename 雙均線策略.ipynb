{
 "cells": [
  {
   "cell_type": "markdown",
   "metadata": {},
   "source": [
    "# 概要\n",
    "    <1> 導入套件\n",
    "    <2> 讀取並初步處理資料\n",
    "    <3> 計算蘋果(APPL.O)的短期均線&長期均線\n",
    "    <4> 雙均線策略報酬分析\n",
    "    <5> 分析均線參數「期間」對策略報酬之影響"
   ]
  },
  {
   "cell_type": "markdown",
   "metadata": {},
   "source": [
    "## <1> 導入套件"
   ]
  },
  {
   "cell_type": "code",
   "execution_count": 1,
   "metadata": {},
   "outputs": [],
   "source": [
    "import warnings\n",
    "warnings.filterwarnings('ignore')\n",
    "import numpy as np\n",
    "import pandas as pd\n",
    "import matplotlib.pyplot as plt\n",
    "plt.style.use('seaborn')\n",
    "%matplotlib inline"
   ]
  },
  {
   "cell_type": "markdown",
   "metadata": {},
   "source": [
    "## <2> 讀取並初步處理資料"
   ]
  },
  {
   "cell_type": "code",
   "execution_count": 2,
   "metadata": {},
   "outputs": [],
   "source": [
    "data = pd.read_csv('data.csv', index_col = 0, parse_dates = True)"
   ]
  },
  {
   "cell_type": "code",
   "execution_count": 3,
   "metadata": {},
   "outputs": [
    {
     "name": "stdout",
     "output_type": "stream",
     "text": [
      "<class 'pandas.core.frame.DataFrame'>\n",
      "DatetimeIndex: 2216 entries, 2010-01-01 to 2018-06-29\n",
      "Data columns (total 12 columns):\n",
      " #   Column  Non-Null Count  Dtype  \n",
      "---  ------  --------------  -----  \n",
      " 0   AAPL.O  2138 non-null   float64\n",
      " 1   MSFT.O  2138 non-null   float64\n",
      " 2   INTC.O  2138 non-null   float64\n",
      " 3   AMZN.O  2138 non-null   float64\n",
      " 4   GS.N    2138 non-null   float64\n",
      " 5   SPY     2138 non-null   float64\n",
      " 6   .SPX    2138 non-null   float64\n",
      " 7   .VIX    2138 non-null   float64\n",
      " 8   EUR=    2216 non-null   float64\n",
      " 9   XAU=    2211 non-null   float64\n",
      " 10  GDX     2138 non-null   float64\n",
      " 11  GLD     2138 non-null   float64\n",
      "dtypes: float64(12)\n",
      "memory usage: 225.1 KB\n"
     ]
    }
   ],
   "source": [
    "data.info()"
   ]
  },
  {
   "cell_type": "code",
   "execution_count": 4,
   "metadata": {},
   "outputs": [
    {
     "data": {
      "text/html": [
       "<div>\n",
       "<style scoped>\n",
       "    .dataframe tbody tr th:only-of-type {\n",
       "        vertical-align: middle;\n",
       "    }\n",
       "\n",
       "    .dataframe tbody tr th {\n",
       "        vertical-align: top;\n",
       "    }\n",
       "\n",
       "    .dataframe thead th {\n",
       "        text-align: right;\n",
       "    }\n",
       "</style>\n",
       "<table border=\"1\" class=\"dataframe\">\n",
       "  <thead>\n",
       "    <tr style=\"text-align: right;\">\n",
       "      <th></th>\n",
       "      <th>AAPL.O</th>\n",
       "      <th>MSFT.O</th>\n",
       "      <th>INTC.O</th>\n",
       "      <th>AMZN.O</th>\n",
       "      <th>GS.N</th>\n",
       "      <th>SPY</th>\n",
       "      <th>.SPX</th>\n",
       "      <th>.VIX</th>\n",
       "      <th>EUR=</th>\n",
       "      <th>XAU=</th>\n",
       "      <th>GDX</th>\n",
       "      <th>GLD</th>\n",
       "    </tr>\n",
       "    <tr>\n",
       "      <th>Date</th>\n",
       "      <th></th>\n",
       "      <th></th>\n",
       "      <th></th>\n",
       "      <th></th>\n",
       "      <th></th>\n",
       "      <th></th>\n",
       "      <th></th>\n",
       "      <th></th>\n",
       "      <th></th>\n",
       "      <th></th>\n",
       "      <th></th>\n",
       "      <th></th>\n",
       "    </tr>\n",
       "  </thead>\n",
       "  <tbody>\n",
       "    <tr>\n",
       "      <th>2010-01-01</th>\n",
       "      <td>NaN</td>\n",
       "      <td>NaN</td>\n",
       "      <td>NaN</td>\n",
       "      <td>NaN</td>\n",
       "      <td>NaN</td>\n",
       "      <td>NaN</td>\n",
       "      <td>NaN</td>\n",
       "      <td>NaN</td>\n",
       "      <td>1.4323</td>\n",
       "      <td>1096.35</td>\n",
       "      <td>NaN</td>\n",
       "      <td>NaN</td>\n",
       "    </tr>\n",
       "    <tr>\n",
       "      <th>2010-01-04</th>\n",
       "      <td>30.572827</td>\n",
       "      <td>30.950</td>\n",
       "      <td>20.88</td>\n",
       "      <td>133.90</td>\n",
       "      <td>173.08</td>\n",
       "      <td>113.33</td>\n",
       "      <td>1132.99</td>\n",
       "      <td>20.04</td>\n",
       "      <td>1.4411</td>\n",
       "      <td>1120.00</td>\n",
       "      <td>47.71</td>\n",
       "      <td>109.80</td>\n",
       "    </tr>\n",
       "    <tr>\n",
       "      <th>2010-01-05</th>\n",
       "      <td>30.625684</td>\n",
       "      <td>30.960</td>\n",
       "      <td>20.87</td>\n",
       "      <td>134.69</td>\n",
       "      <td>176.14</td>\n",
       "      <td>113.63</td>\n",
       "      <td>1136.52</td>\n",
       "      <td>19.35</td>\n",
       "      <td>1.4368</td>\n",
       "      <td>1118.65</td>\n",
       "      <td>48.17</td>\n",
       "      <td>109.70</td>\n",
       "    </tr>\n",
       "    <tr>\n",
       "      <th>2010-01-06</th>\n",
       "      <td>30.138541</td>\n",
       "      <td>30.770</td>\n",
       "      <td>20.80</td>\n",
       "      <td>132.25</td>\n",
       "      <td>174.26</td>\n",
       "      <td>113.71</td>\n",
       "      <td>1137.14</td>\n",
       "      <td>19.16</td>\n",
       "      <td>1.4412</td>\n",
       "      <td>1138.50</td>\n",
       "      <td>49.34</td>\n",
       "      <td>111.51</td>\n",
       "    </tr>\n",
       "    <tr>\n",
       "      <th>2010-01-07</th>\n",
       "      <td>30.082827</td>\n",
       "      <td>30.452</td>\n",
       "      <td>20.60</td>\n",
       "      <td>130.00</td>\n",
       "      <td>177.67</td>\n",
       "      <td>114.19</td>\n",
       "      <td>1141.69</td>\n",
       "      <td>19.06</td>\n",
       "      <td>1.4318</td>\n",
       "      <td>1131.90</td>\n",
       "      <td>49.10</td>\n",
       "      <td>110.82</td>\n",
       "    </tr>\n",
       "  </tbody>\n",
       "</table>\n",
       "</div>"
      ],
      "text/plain": [
       "               AAPL.O  MSFT.O  INTC.O  AMZN.O    GS.N     SPY     .SPX   .VIX  \\\n",
       "Date                                                                            \n",
       "2010-01-01        NaN     NaN     NaN     NaN     NaN     NaN      NaN    NaN   \n",
       "2010-01-04  30.572827  30.950   20.88  133.90  173.08  113.33  1132.99  20.04   \n",
       "2010-01-05  30.625684  30.960   20.87  134.69  176.14  113.63  1136.52  19.35   \n",
       "2010-01-06  30.138541  30.770   20.80  132.25  174.26  113.71  1137.14  19.16   \n",
       "2010-01-07  30.082827  30.452   20.60  130.00  177.67  114.19  1141.69  19.06   \n",
       "\n",
       "              EUR=     XAU=    GDX     GLD  \n",
       "Date                                        \n",
       "2010-01-01  1.4323  1096.35    NaN     NaN  \n",
       "2010-01-04  1.4411  1120.00  47.71  109.80  \n",
       "2010-01-05  1.4368  1118.65  48.17  109.70  \n",
       "2010-01-06  1.4412  1138.50  49.34  111.51  \n",
       "2010-01-07  1.4318  1131.90  49.10  110.82  "
      ]
     },
     "execution_count": 4,
     "metadata": {},
     "output_type": "execute_result"
    }
   ],
   "source": [
    "data.head()"
   ]
  },
  {
   "cell_type": "code",
   "execution_count": 5,
   "metadata": {},
   "outputs": [
    {
     "data": {
      "text/html": [
       "<div>\n",
       "<style scoped>\n",
       "    .dataframe tbody tr th:only-of-type {\n",
       "        vertical-align: middle;\n",
       "    }\n",
       "\n",
       "    .dataframe tbody tr th {\n",
       "        vertical-align: top;\n",
       "    }\n",
       "\n",
       "    .dataframe thead th {\n",
       "        text-align: right;\n",
       "    }\n",
       "</style>\n",
       "<table border=\"1\" class=\"dataframe\">\n",
       "  <thead>\n",
       "    <tr style=\"text-align: right;\">\n",
       "      <th></th>\n",
       "      <th>AAPL.O</th>\n",
       "      <th>MSFT.O</th>\n",
       "      <th>INTC.O</th>\n",
       "      <th>AMZN.O</th>\n",
       "      <th>GS.N</th>\n",
       "      <th>SPY</th>\n",
       "      <th>.SPX</th>\n",
       "      <th>.VIX</th>\n",
       "      <th>EUR=</th>\n",
       "      <th>XAU=</th>\n",
       "      <th>GDX</th>\n",
       "      <th>GLD</th>\n",
       "    </tr>\n",
       "    <tr>\n",
       "      <th>Date</th>\n",
       "      <th></th>\n",
       "      <th></th>\n",
       "      <th></th>\n",
       "      <th></th>\n",
       "      <th></th>\n",
       "      <th></th>\n",
       "      <th></th>\n",
       "      <th></th>\n",
       "      <th></th>\n",
       "      <th></th>\n",
       "      <th></th>\n",
       "      <th></th>\n",
       "    </tr>\n",
       "  </thead>\n",
       "  <tbody>\n",
       "    <tr>\n",
       "      <th>2010-01-04</th>\n",
       "      <td>30.572827</td>\n",
       "      <td>30.950</td>\n",
       "      <td>20.88</td>\n",
       "      <td>133.90</td>\n",
       "      <td>173.08</td>\n",
       "      <td>113.33</td>\n",
       "      <td>1132.99</td>\n",
       "      <td>20.04</td>\n",
       "      <td>1.4411</td>\n",
       "      <td>1120.00</td>\n",
       "      <td>47.71</td>\n",
       "      <td>109.80</td>\n",
       "    </tr>\n",
       "    <tr>\n",
       "      <th>2010-01-05</th>\n",
       "      <td>30.625684</td>\n",
       "      <td>30.960</td>\n",
       "      <td>20.87</td>\n",
       "      <td>134.69</td>\n",
       "      <td>176.14</td>\n",
       "      <td>113.63</td>\n",
       "      <td>1136.52</td>\n",
       "      <td>19.35</td>\n",
       "      <td>1.4368</td>\n",
       "      <td>1118.65</td>\n",
       "      <td>48.17</td>\n",
       "      <td>109.70</td>\n",
       "    </tr>\n",
       "    <tr>\n",
       "      <th>2010-01-06</th>\n",
       "      <td>30.138541</td>\n",
       "      <td>30.770</td>\n",
       "      <td>20.80</td>\n",
       "      <td>132.25</td>\n",
       "      <td>174.26</td>\n",
       "      <td>113.71</td>\n",
       "      <td>1137.14</td>\n",
       "      <td>19.16</td>\n",
       "      <td>1.4412</td>\n",
       "      <td>1138.50</td>\n",
       "      <td>49.34</td>\n",
       "      <td>111.51</td>\n",
       "    </tr>\n",
       "    <tr>\n",
       "      <th>2010-01-07</th>\n",
       "      <td>30.082827</td>\n",
       "      <td>30.452</td>\n",
       "      <td>20.60</td>\n",
       "      <td>130.00</td>\n",
       "      <td>177.67</td>\n",
       "      <td>114.19</td>\n",
       "      <td>1141.69</td>\n",
       "      <td>19.06</td>\n",
       "      <td>1.4318</td>\n",
       "      <td>1131.90</td>\n",
       "      <td>49.10</td>\n",
       "      <td>110.82</td>\n",
       "    </tr>\n",
       "    <tr>\n",
       "      <th>2010-01-08</th>\n",
       "      <td>30.282827</td>\n",
       "      <td>30.660</td>\n",
       "      <td>20.83</td>\n",
       "      <td>133.52</td>\n",
       "      <td>174.31</td>\n",
       "      <td>114.57</td>\n",
       "      <td>1144.98</td>\n",
       "      <td>18.13</td>\n",
       "      <td>1.4412</td>\n",
       "      <td>1136.10</td>\n",
       "      <td>49.84</td>\n",
       "      <td>111.37</td>\n",
       "    </tr>\n",
       "  </tbody>\n",
       "</table>\n",
       "</div>"
      ],
      "text/plain": [
       "               AAPL.O  MSFT.O  INTC.O  AMZN.O    GS.N     SPY     .SPX   .VIX  \\\n",
       "Date                                                                            \n",
       "2010-01-04  30.572827  30.950   20.88  133.90  173.08  113.33  1132.99  20.04   \n",
       "2010-01-05  30.625684  30.960   20.87  134.69  176.14  113.63  1136.52  19.35   \n",
       "2010-01-06  30.138541  30.770   20.80  132.25  174.26  113.71  1137.14  19.16   \n",
       "2010-01-07  30.082827  30.452   20.60  130.00  177.67  114.19  1141.69  19.06   \n",
       "2010-01-08  30.282827  30.660   20.83  133.52  174.31  114.57  1144.98  18.13   \n",
       "\n",
       "              EUR=     XAU=    GDX     GLD  \n",
       "Date                                        \n",
       "2010-01-04  1.4411  1120.00  47.71  109.80  \n",
       "2010-01-05  1.4368  1118.65  48.17  109.70  \n",
       "2010-01-06  1.4412  1138.50  49.34  111.51  \n",
       "2010-01-07  1.4318  1131.90  49.10  110.82  \n",
       "2010-01-08  1.4412  1136.10  49.84  111.37  "
      ]
     },
     "execution_count": 5,
     "metadata": {},
     "output_type": "execute_result"
    }
   ],
   "source": [
    "data.dropna(inplace = True)\n",
    "data.head()"
   ]
  },
  {
   "cell_type": "markdown",
   "metadata": {},
   "source": [
    "## <3> 計算蘋果(APPL.O)的短期均線&長期均線"
   ]
  },
  {
   "cell_type": "markdown",
   "metadata": {},
   "source": [
    "#### 1.挑出蘋果的股票"
   ]
  },
  {
   "cell_type": "code",
   "execution_count": 6,
   "metadata": {},
   "outputs": [],
   "source": [
    "data = data[['AAPL.O']]"
   ]
  },
  {
   "cell_type": "code",
   "execution_count": 7,
   "metadata": {},
   "outputs": [
    {
     "data": {
      "text/html": [
       "<div>\n",
       "<style scoped>\n",
       "    .dataframe tbody tr th:only-of-type {\n",
       "        vertical-align: middle;\n",
       "    }\n",
       "\n",
       "    .dataframe tbody tr th {\n",
       "        vertical-align: top;\n",
       "    }\n",
       "\n",
       "    .dataframe thead th {\n",
       "        text-align: right;\n",
       "    }\n",
       "</style>\n",
       "<table border=\"1\" class=\"dataframe\">\n",
       "  <thead>\n",
       "    <tr style=\"text-align: right;\">\n",
       "      <th></th>\n",
       "      <th>AAPL.O</th>\n",
       "    </tr>\n",
       "    <tr>\n",
       "      <th>Date</th>\n",
       "      <th></th>\n",
       "    </tr>\n",
       "  </thead>\n",
       "  <tbody>\n",
       "    <tr>\n",
       "      <th>2010-01-04</th>\n",
       "      <td>30.572827</td>\n",
       "    </tr>\n",
       "    <tr>\n",
       "      <th>2010-01-05</th>\n",
       "      <td>30.625684</td>\n",
       "    </tr>\n",
       "    <tr>\n",
       "      <th>2010-01-06</th>\n",
       "      <td>30.138541</td>\n",
       "    </tr>\n",
       "    <tr>\n",
       "      <th>2010-01-07</th>\n",
       "      <td>30.082827</td>\n",
       "    </tr>\n",
       "    <tr>\n",
       "      <th>2010-01-08</th>\n",
       "      <td>30.282827</td>\n",
       "    </tr>\n",
       "  </tbody>\n",
       "</table>\n",
       "</div>"
      ],
      "text/plain": [
       "               AAPL.O\n",
       "Date                 \n",
       "2010-01-04  30.572827\n",
       "2010-01-05  30.625684\n",
       "2010-01-06  30.138541\n",
       "2010-01-07  30.082827\n",
       "2010-01-08  30.282827"
      ]
     },
     "execution_count": 7,
     "metadata": {},
     "output_type": "execute_result"
    }
   ],
   "source": [
    "data.head()"
   ]
  },
  {
   "cell_type": "markdown",
   "metadata": {},
   "source": [
    "#### 2.計算短期均線&長期均線\n",
    "- 短期(SMA1) : 20天\n",
    "- 長期(SMA2) : 240天"
   ]
  },
  {
   "cell_type": "code",
   "execution_count": 8,
   "metadata": {},
   "outputs": [],
   "source": [
    "SMA1 = 20\n",
    "SMA2 = 240"
   ]
  },
  {
   "cell_type": "code",
   "execution_count": 9,
   "metadata": {},
   "outputs": [],
   "source": [
    "data['SMA1'] = data['AAPL.O'].rolling(window = SMA1).mean()\n",
    "data['SMA2'] = data['AAPL.O'].rolling(window = SMA2).mean()"
   ]
  },
  {
   "cell_type": "code",
   "execution_count": 10,
   "metadata": {},
   "outputs": [
    {
     "data": {
      "text/html": [
       "<div>\n",
       "<style scoped>\n",
       "    .dataframe tbody tr th:only-of-type {\n",
       "        vertical-align: middle;\n",
       "    }\n",
       "\n",
       "    .dataframe tbody tr th {\n",
       "        vertical-align: top;\n",
       "    }\n",
       "\n",
       "    .dataframe thead th {\n",
       "        text-align: right;\n",
       "    }\n",
       "</style>\n",
       "<table border=\"1\" class=\"dataframe\">\n",
       "  <thead>\n",
       "    <tr style=\"text-align: right;\">\n",
       "      <th></th>\n",
       "      <th>AAPL.O</th>\n",
       "      <th>SMA1</th>\n",
       "      <th>SMA2</th>\n",
       "    </tr>\n",
       "    <tr>\n",
       "      <th>Date</th>\n",
       "      <th></th>\n",
       "      <th></th>\n",
       "      <th></th>\n",
       "    </tr>\n",
       "  </thead>\n",
       "  <tbody>\n",
       "    <tr>\n",
       "      <th>2010-01-04</th>\n",
       "      <td>30.572827</td>\n",
       "      <td>NaN</td>\n",
       "      <td>NaN</td>\n",
       "    </tr>\n",
       "    <tr>\n",
       "      <th>2010-01-05</th>\n",
       "      <td>30.625684</td>\n",
       "      <td>NaN</td>\n",
       "      <td>NaN</td>\n",
       "    </tr>\n",
       "    <tr>\n",
       "      <th>2010-01-06</th>\n",
       "      <td>30.138541</td>\n",
       "      <td>NaN</td>\n",
       "      <td>NaN</td>\n",
       "    </tr>\n",
       "    <tr>\n",
       "      <th>2010-01-07</th>\n",
       "      <td>30.082827</td>\n",
       "      <td>NaN</td>\n",
       "      <td>NaN</td>\n",
       "    </tr>\n",
       "    <tr>\n",
       "      <th>2010-01-08</th>\n",
       "      <td>30.282827</td>\n",
       "      <td>NaN</td>\n",
       "      <td>NaN</td>\n",
       "    </tr>\n",
       "  </tbody>\n",
       "</table>\n",
       "</div>"
      ],
      "text/plain": [
       "               AAPL.O  SMA1  SMA2\n",
       "Date                             \n",
       "2010-01-04  30.572827   NaN   NaN\n",
       "2010-01-05  30.625684   NaN   NaN\n",
       "2010-01-06  30.138541   NaN   NaN\n",
       "2010-01-07  30.082827   NaN   NaN\n",
       "2010-01-08  30.282827   NaN   NaN"
      ]
     },
     "execution_count": 10,
     "metadata": {},
     "output_type": "execute_result"
    }
   ],
   "source": [
    "data.head()"
   ]
  },
  {
   "cell_type": "code",
   "execution_count": 11,
   "metadata": {},
   "outputs": [
    {
     "name": "stdout",
     "output_type": "stream",
     "text": [
      "<class 'pandas.core.frame.DataFrame'>\n",
      "DatetimeIndex: 2138 entries, 2010-01-04 to 2018-06-29\n",
      "Data columns (total 3 columns):\n",
      " #   Column  Non-Null Count  Dtype  \n",
      "---  ------  --------------  -----  \n",
      " 0   AAPL.O  2138 non-null   float64\n",
      " 1   SMA1    2119 non-null   float64\n",
      " 2   SMA2    1899 non-null   float64\n",
      "dtypes: float64(3)\n",
      "memory usage: 66.8 KB\n"
     ]
    }
   ],
   "source": [
    "data.info()"
   ]
  },
  {
   "cell_type": "code",
   "execution_count": 12,
   "metadata": {},
   "outputs": [
    {
     "data": {
      "text/html": [
       "<div>\n",
       "<style scoped>\n",
       "    .dataframe tbody tr th:only-of-type {\n",
       "        vertical-align: middle;\n",
       "    }\n",
       "\n",
       "    .dataframe tbody tr th {\n",
       "        vertical-align: top;\n",
       "    }\n",
       "\n",
       "    .dataframe thead th {\n",
       "        text-align: right;\n",
       "    }\n",
       "</style>\n",
       "<table border=\"1\" class=\"dataframe\">\n",
       "  <thead>\n",
       "    <tr style=\"text-align: right;\">\n",
       "      <th></th>\n",
       "      <th>AAPL.O</th>\n",
       "      <th>SMA1</th>\n",
       "      <th>SMA2</th>\n",
       "    </tr>\n",
       "    <tr>\n",
       "      <th>Date</th>\n",
       "      <th></th>\n",
       "      <th></th>\n",
       "      <th></th>\n",
       "    </tr>\n",
       "  </thead>\n",
       "  <tbody>\n",
       "    <tr>\n",
       "      <th>2010-12-14</th>\n",
       "      <td>45.755669</td>\n",
       "      <td>44.939616</td>\n",
       "      <td>36.667813</td>\n",
       "    </tr>\n",
       "    <tr>\n",
       "      <th>2010-12-15</th>\n",
       "      <td>45.765669</td>\n",
       "      <td>45.073687</td>\n",
       "      <td>36.731117</td>\n",
       "    </tr>\n",
       "    <tr>\n",
       "      <th>2010-12-16</th>\n",
       "      <td>45.892811</td>\n",
       "      <td>45.221901</td>\n",
       "      <td>36.794730</td>\n",
       "    </tr>\n",
       "    <tr>\n",
       "      <th>2010-12-17</th>\n",
       "      <td>45.801383</td>\n",
       "      <td>45.308901</td>\n",
       "      <td>36.859992</td>\n",
       "    </tr>\n",
       "    <tr>\n",
       "      <th>2010-12-20</th>\n",
       "      <td>46.029954</td>\n",
       "      <td>45.419472</td>\n",
       "      <td>36.926438</td>\n",
       "    </tr>\n",
       "  </tbody>\n",
       "</table>\n",
       "</div>"
      ],
      "text/plain": [
       "               AAPL.O       SMA1       SMA2\n",
       "Date                                       \n",
       "2010-12-14  45.755669  44.939616  36.667813\n",
       "2010-12-15  45.765669  45.073687  36.731117\n",
       "2010-12-16  45.892811  45.221901  36.794730\n",
       "2010-12-17  45.801383  45.308901  36.859992\n",
       "2010-12-20  46.029954  45.419472  36.926438"
      ]
     },
     "execution_count": 12,
     "metadata": {},
     "output_type": "execute_result"
    }
   ],
   "source": [
    "data.dropna(inplace = True)\n",
    "data.head()"
   ]
  },
  {
   "cell_type": "code",
   "execution_count": 13,
   "metadata": {},
   "outputs": [
    {
     "data": {
      "text/plain": [
       "<matplotlib.axes._subplots.AxesSubplot at 0x2dd78ee8910>"
      ]
     },
     "execution_count": 13,
     "metadata": {},
     "output_type": "execute_result"
    },
    {
     "data": {
      "image/png": "[encoded data removed]",
      "text/plain": [
       "<Figure size 1080x720 with 1 Axes>"
      ]
     },
     "metadata": {
      "needs_background": "light"
     },
     "output_type": "display_data"
    }
   ],
   "source": [
    "data.plot(figsize = (15,10))"
   ]
  },
  {
   "cell_type": "markdown",
   "metadata": {},
   "source": [
    "#### 3.找出黃金交叉&死亡交叉的位置\n",
    "- cross從-1到1為黃金交叉\n",
    "- cross從1到-1為死亡交叉"
   ]
  },
  {
   "cell_type": "code",
   "execution_count": 14,
   "metadata": {},
   "outputs": [
    {
     "data": {
      "text/html": [
       "<div>\n",
       "<style scoped>\n",
       "    .dataframe tbody tr th:only-of-type {\n",
       "        vertical-align: middle;\n",
       "    }\n",
       "\n",
       "    .dataframe tbody tr th {\n",
       "        vertical-align: top;\n",
       "    }\n",
       "\n",
       "    .dataframe thead th {\n",
       "        text-align: right;\n",
       "    }\n",
       "</style>\n",
       "<table border=\"1\" class=\"dataframe\">\n",
       "  <thead>\n",
       "    <tr style=\"text-align: right;\">\n",
       "      <th></th>\n",
       "      <th>AAPL.O</th>\n",
       "      <th>SMA1</th>\n",
       "      <th>SMA2</th>\n",
       "      <th>cross</th>\n",
       "    </tr>\n",
       "    <tr>\n",
       "      <th>Date</th>\n",
       "      <th></th>\n",
       "      <th></th>\n",
       "      <th></th>\n",
       "      <th></th>\n",
       "    </tr>\n",
       "  </thead>\n",
       "  <tbody>\n",
       "    <tr>\n",
       "      <th>2010-12-14</th>\n",
       "      <td>45.755669</td>\n",
       "      <td>44.939616</td>\n",
       "      <td>36.667813</td>\n",
       "      <td>1</td>\n",
       "    </tr>\n",
       "    <tr>\n",
       "      <th>2010-12-15</th>\n",
       "      <td>45.765669</td>\n",
       "      <td>45.073687</td>\n",
       "      <td>36.731117</td>\n",
       "      <td>1</td>\n",
       "    </tr>\n",
       "    <tr>\n",
       "      <th>2010-12-16</th>\n",
       "      <td>45.892811</td>\n",
       "      <td>45.221901</td>\n",
       "      <td>36.794730</td>\n",
       "      <td>1</td>\n",
       "    </tr>\n",
       "    <tr>\n",
       "      <th>2010-12-17</th>\n",
       "      <td>45.801383</td>\n",
       "      <td>45.308901</td>\n",
       "      <td>36.859992</td>\n",
       "      <td>1</td>\n",
       "    </tr>\n",
       "    <tr>\n",
       "      <th>2010-12-20</th>\n",
       "      <td>46.029954</td>\n",
       "      <td>45.419472</td>\n",
       "      <td>36.926438</td>\n",
       "      <td>1</td>\n",
       "    </tr>\n",
       "  </tbody>\n",
       "</table>\n",
       "</div>"
      ],
      "text/plain": [
       "               AAPL.O       SMA1       SMA2  cross\n",
       "Date                                              \n",
       "2010-12-14  45.755669  44.939616  36.667813      1\n",
       "2010-12-15  45.765669  45.073687  36.731117      1\n",
       "2010-12-16  45.892811  45.221901  36.794730      1\n",
       "2010-12-17  45.801383  45.308901  36.859992      1\n",
       "2010-12-20  46.029954  45.419472  36.926438      1"
      ]
     },
     "execution_count": 14,
     "metadata": {},
     "output_type": "execute_result"
    }
   ],
   "source": [
    "data['cross'] = np.where( data['SMA1'] > data['SMA2'], 1, -1)\n",
    "data.head()"
   ]
  },
  {
   "cell_type": "code",
   "execution_count": 15,
   "metadata": {},
   "outputs": [
    {
     "data": {
      "text/plain": [
       "<matplotlib.axes._subplots.AxesSubplot at 0x2dd79641d60>"
      ]
     },
     "execution_count": 15,
     "metadata": {},
     "output_type": "execute_result"
    },
    {
     "data": {
      "image/png": "[encoded data removed]",
      "text/plain": [
       "<Figure size 1080x720 with 2 Axes>"
      ]
     },
     "metadata": {
      "needs_background": "light"
     },
     "output_type": "display_data"
    }
   ],
   "source": [
    "data.plot(figsize = (15,10), secondary_y = 'cross')"
   ]
  },
  {
   "cell_type": "markdown",
   "metadata": {},
   "source": [
    "## <4> 雙均線策略報酬分析"
   ]
  },
  {
   "cell_type": "markdown",
   "metadata": {},
   "source": [
    "- 買進持有報酬 : B&H\n",
    "- 雙均線策略報酬 : Strategy\n",
    "\n",
    "    (1) 若今天收盤時出現黃金交叉(cross從-1變成1)，則下一個交易日一開盤就要立即買進\n",
    "        此時Strategy的報酬和B&H相同\n",
    "           \n",
    "    (2) 若今天收盤時出現死亡交叉(cross從1變成-1)，則下一個交易日一開盤就要立即賣出\n",
    "        此時Strategy的報酬和B&H相反"
   ]
  },
  {
   "cell_type": "code",
   "execution_count": 16,
   "metadata": {},
   "outputs": [],
   "source": [
    "data['B&H'] = np.log( data['AAPL.O'] / data['AAPL.O'].shift(1) )"
   ]
  },
  {
   "cell_type": "code",
   "execution_count": 17,
   "metadata": {},
   "outputs": [],
   "source": [
    "data['Strategy'] = data['cross'].shift(1)* data['B&H']"
   ]
  },
  {
   "cell_type": "code",
   "execution_count": 18,
   "metadata": {},
   "outputs": [
    {
     "data": {
      "text/html": [
       "<div>\n",
       "<style scoped>\n",
       "    .dataframe tbody tr th:only-of-type {\n",
       "        vertical-align: middle;\n",
       "    }\n",
       "\n",
       "    .dataframe tbody tr th {\n",
       "        vertical-align: top;\n",
       "    }\n",
       "\n",
       "    .dataframe thead th {\n",
       "        text-align: right;\n",
       "    }\n",
       "</style>\n",
       "<table border=\"1\" class=\"dataframe\">\n",
       "  <thead>\n",
       "    <tr style=\"text-align: right;\">\n",
       "      <th></th>\n",
       "      <th>AAPL.O</th>\n",
       "      <th>SMA1</th>\n",
       "      <th>SMA2</th>\n",
       "      <th>cross</th>\n",
       "      <th>B&amp;H</th>\n",
       "      <th>Strategy</th>\n",
       "    </tr>\n",
       "    <tr>\n",
       "      <th>Date</th>\n",
       "      <th></th>\n",
       "      <th></th>\n",
       "      <th></th>\n",
       "      <th></th>\n",
       "      <th></th>\n",
       "      <th></th>\n",
       "    </tr>\n",
       "  </thead>\n",
       "  <tbody>\n",
       "    <tr>\n",
       "      <th>2010-12-14</th>\n",
       "      <td>45.755669</td>\n",
       "      <td>44.939616</td>\n",
       "      <td>36.667813</td>\n",
       "      <td>1</td>\n",
       "      <td>NaN</td>\n",
       "      <td>NaN</td>\n",
       "    </tr>\n",
       "    <tr>\n",
       "      <th>2010-12-15</th>\n",
       "      <td>45.765669</td>\n",
       "      <td>45.073687</td>\n",
       "      <td>36.731117</td>\n",
       "      <td>1</td>\n",
       "      <td>0.000219</td>\n",
       "      <td>0.000219</td>\n",
       "    </tr>\n",
       "    <tr>\n",
       "      <th>2010-12-16</th>\n",
       "      <td>45.892811</td>\n",
       "      <td>45.221901</td>\n",
       "      <td>36.794730</td>\n",
       "      <td>1</td>\n",
       "      <td>0.002774</td>\n",
       "      <td>0.002774</td>\n",
       "    </tr>\n",
       "    <tr>\n",
       "      <th>2010-12-17</th>\n",
       "      <td>45.801383</td>\n",
       "      <td>45.308901</td>\n",
       "      <td>36.859992</td>\n",
       "      <td>1</td>\n",
       "      <td>-0.001994</td>\n",
       "      <td>-0.001994</td>\n",
       "    </tr>\n",
       "    <tr>\n",
       "      <th>2010-12-20</th>\n",
       "      <td>46.029954</td>\n",
       "      <td>45.419472</td>\n",
       "      <td>36.926438</td>\n",
       "      <td>1</td>\n",
       "      <td>0.004978</td>\n",
       "      <td>0.004978</td>\n",
       "    </tr>\n",
       "  </tbody>\n",
       "</table>\n",
       "</div>"
      ],
      "text/plain": [
       "               AAPL.O       SMA1       SMA2  cross       B&H  Strategy\n",
       "Date                                                                  \n",
       "2010-12-14  45.755669  44.939616  36.667813      1       NaN       NaN\n",
       "2010-12-15  45.765669  45.073687  36.731117      1  0.000219  0.000219\n",
       "2010-12-16  45.892811  45.221901  36.794730      1  0.002774  0.002774\n",
       "2010-12-17  45.801383  45.308901  36.859992      1 -0.001994 -0.001994\n",
       "2010-12-20  46.029954  45.419472  36.926438      1  0.004978  0.004978"
      ]
     },
     "execution_count": 18,
     "metadata": {},
     "output_type": "execute_result"
    }
   ],
   "source": [
    "data.head()"
   ]
  },
  {
   "cell_type": "code",
   "execution_count": 19,
   "metadata": {},
   "outputs": [
    {
     "data": {
      "text/html": [
       "<div>\n",
       "<style scoped>\n",
       "    .dataframe tbody tr th:only-of-type {\n",
       "        vertical-align: middle;\n",
       "    }\n",
       "\n",
       "    .dataframe tbody tr th {\n",
       "        vertical-align: top;\n",
       "    }\n",
       "\n",
       "    .dataframe thead th {\n",
       "        text-align: right;\n",
       "    }\n",
       "</style>\n",
       "<table border=\"1\" class=\"dataframe\">\n",
       "  <thead>\n",
       "    <tr style=\"text-align: right;\">\n",
       "      <th></th>\n",
       "      <th>AAPL.O</th>\n",
       "      <th>SMA1</th>\n",
       "      <th>SMA2</th>\n",
       "      <th>cross</th>\n",
       "      <th>B&amp;H</th>\n",
       "      <th>Strategy</th>\n",
       "    </tr>\n",
       "    <tr>\n",
       "      <th>Date</th>\n",
       "      <th></th>\n",
       "      <th></th>\n",
       "      <th></th>\n",
       "      <th></th>\n",
       "      <th></th>\n",
       "      <th></th>\n",
       "    </tr>\n",
       "  </thead>\n",
       "  <tbody>\n",
       "    <tr>\n",
       "      <th>2010-12-15</th>\n",
       "      <td>45.765669</td>\n",
       "      <td>45.073687</td>\n",
       "      <td>36.731117</td>\n",
       "      <td>1</td>\n",
       "      <td>0.000219</td>\n",
       "      <td>0.000219</td>\n",
       "    </tr>\n",
       "    <tr>\n",
       "      <th>2010-12-16</th>\n",
       "      <td>45.892811</td>\n",
       "      <td>45.221901</td>\n",
       "      <td>36.794730</td>\n",
       "      <td>1</td>\n",
       "      <td>0.002774</td>\n",
       "      <td>0.002774</td>\n",
       "    </tr>\n",
       "    <tr>\n",
       "      <th>2010-12-17</th>\n",
       "      <td>45.801383</td>\n",
       "      <td>45.308901</td>\n",
       "      <td>36.859992</td>\n",
       "      <td>1</td>\n",
       "      <td>-0.001994</td>\n",
       "      <td>-0.001994</td>\n",
       "    </tr>\n",
       "    <tr>\n",
       "      <th>2010-12-20</th>\n",
       "      <td>46.029954</td>\n",
       "      <td>45.419472</td>\n",
       "      <td>36.926438</td>\n",
       "      <td>1</td>\n",
       "      <td>0.004978</td>\n",
       "      <td>0.004978</td>\n",
       "    </tr>\n",
       "    <tr>\n",
       "      <th>2010-12-21</th>\n",
       "      <td>46.314954</td>\n",
       "      <td>45.496937</td>\n",
       "      <td>36.993239</td>\n",
       "      <td>1</td>\n",
       "      <td>0.006173</td>\n",
       "      <td>0.006173</td>\n",
       "    </tr>\n",
       "  </tbody>\n",
       "</table>\n",
       "</div>"
      ],
      "text/plain": [
       "               AAPL.O       SMA1       SMA2  cross       B&H  Strategy\n",
       "Date                                                                  \n",
       "2010-12-15  45.765669  45.073687  36.731117      1  0.000219  0.000219\n",
       "2010-12-16  45.892811  45.221901  36.794730      1  0.002774  0.002774\n",
       "2010-12-17  45.801383  45.308901  36.859992      1 -0.001994 -0.001994\n",
       "2010-12-20  46.029954  45.419472  36.926438      1  0.004978  0.004978\n",
       "2010-12-21  46.314954  45.496937  36.993239      1  0.006173  0.006173"
      ]
     },
     "execution_count": 19,
     "metadata": {},
     "output_type": "execute_result"
    }
   ],
   "source": [
    "data.dropna(inplace = True)\n",
    "data.head()"
   ]
  },
  {
   "cell_type": "markdown",
   "metadata": {},
   "source": [
    "- 解析下表\n",
    "    - 2012-11-23出現死亡交叉，亦即出現賣出信號，故下一個交易日2012-11-26一開盤就要「賣出」蘋果股票，\n",
    "            因此2012-11-26 Strategy的報酬和B&H相反\n",
    "    - 2012-11-26的cross和2012-11-27的cross同為-1，故交易方向不改\n",
    "            ，仍維持賣出，Strategy報酬維持跟B&H相反\n",
    "    - 2013-09-05出現黃金交叉，亦即出現買進信號，故下一個交易日2013-09-06一開盤就要「買進」蘋果股票，\n",
    "            因此2013-09-07 Strategy的報酬和B&H相同\n",
    "    - 2013-09-08的cross和2013-09-07的cross同為1，故交易方向不改，\n",
    "            仍維持買進，Strategy報酬維持跟B&H相同"
   ]
  },
  {
   "cell_type": "code",
   "execution_count": 20,
   "metadata": {},
   "outputs": [
    {
     "data": {
      "text/html": [
       "<div>\n",
       "<style scoped>\n",
       "    .dataframe tbody tr th:only-of-type {\n",
       "        vertical-align: middle;\n",
       "    }\n",
       "\n",
       "    .dataframe tbody tr th {\n",
       "        vertical-align: top;\n",
       "    }\n",
       "\n",
       "    .dataframe thead th {\n",
       "        text-align: right;\n",
       "    }\n",
       "</style>\n",
       "<table border=\"1\" class=\"dataframe\">\n",
       "  <thead>\n",
       "    <tr style=\"text-align: right;\">\n",
       "      <th></th>\n",
       "      <th>AAPL.O</th>\n",
       "      <th>SMA1</th>\n",
       "      <th>SMA2</th>\n",
       "      <th>cross</th>\n",
       "      <th>B&amp;H</th>\n",
       "      <th>Strategy</th>\n",
       "    </tr>\n",
       "    <tr>\n",
       "      <th>Date</th>\n",
       "      <th></th>\n",
       "      <th></th>\n",
       "      <th></th>\n",
       "      <th></th>\n",
       "      <th></th>\n",
       "      <th></th>\n",
       "    </tr>\n",
       "  </thead>\n",
       "  <tbody>\n",
       "    <tr>\n",
       "      <th>2012-11-21</th>\n",
       "      <td>80.242777</td>\n",
       "      <td>81.335027</td>\n",
       "      <td>81.052775</td>\n",
       "      <td>1</td>\n",
       "      <td>0.001401</td>\n",
       "      <td>0.001401</td>\n",
       "    </tr>\n",
       "    <tr>\n",
       "      <th>2012-11-23</th>\n",
       "      <td>81.642776</td>\n",
       "      <td>81.036060</td>\n",
       "      <td>81.160418</td>\n",
       "      <td>-1</td>\n",
       "      <td>0.017297</td>\n",
       "      <td>0.017297</td>\n",
       "    </tr>\n",
       "    <tr>\n",
       "      <th>2012-11-26</th>\n",
       "      <td>84.218487</td>\n",
       "      <td>80.841061</td>\n",
       "      <td>81.277031</td>\n",
       "      <td>-1</td>\n",
       "      <td>0.031061</td>\n",
       "      <td>-0.031061</td>\n",
       "    </tr>\n",
       "    <tr>\n",
       "      <th>2012-11-27</th>\n",
       "      <td>83.539916</td>\n",
       "      <td>80.664218</td>\n",
       "      <td>81.391876</td>\n",
       "      <td>-1</td>\n",
       "      <td>-0.008090</td>\n",
       "      <td>0.008090</td>\n",
       "    </tr>\n",
       "    <tr>\n",
       "      <th>2012-11-28</th>\n",
       "      <td>83.277060</td>\n",
       "      <td>80.513789</td>\n",
       "      <td>81.507429</td>\n",
       "      <td>-1</td>\n",
       "      <td>-0.003151</td>\n",
       "      <td>0.003151</td>\n",
       "    </tr>\n",
       "    <tr>\n",
       "      <th>...</th>\n",
       "      <td>...</td>\n",
       "      <td>...</td>\n",
       "      <td>...</td>\n",
       "      <td>...</td>\n",
       "      <td>...</td>\n",
       "      <td>...</td>\n",
       "    </tr>\n",
       "    <tr>\n",
       "      <th>2013-09-04</th>\n",
       "      <td>71.241500</td>\n",
       "      <td>69.999237</td>\n",
       "      <td>70.198437</td>\n",
       "      <td>-1</td>\n",
       "      <td>0.020483</td>\n",
       "      <td>-0.020483</td>\n",
       "    </tr>\n",
       "    <tr>\n",
       "      <th>2013-09-05</th>\n",
       "      <td>70.752786</td>\n",
       "      <td>70.215594</td>\n",
       "      <td>70.075324</td>\n",
       "      <td>1</td>\n",
       "      <td>-0.006884</td>\n",
       "      <td>0.006884</td>\n",
       "    </tr>\n",
       "    <tr>\n",
       "      <th>2013-09-06</th>\n",
       "      <td>71.174215</td>\n",
       "      <td>70.481380</td>\n",
       "      <td>69.955991</td>\n",
       "      <td>1</td>\n",
       "      <td>0.005939</td>\n",
       "      <td>0.005939</td>\n",
       "    </tr>\n",
       "    <tr>\n",
       "      <th>2013-09-09</th>\n",
       "      <td>72.309928</td>\n",
       "      <td>70.850808</td>\n",
       "      <td>69.840559</td>\n",
       "      <td>1</td>\n",
       "      <td>0.015831</td>\n",
       "      <td>0.015831</td>\n",
       "    </tr>\n",
       "    <tr>\n",
       "      <th>2013-09-10</th>\n",
       "      <td>70.662786</td>\n",
       "      <td>71.045665</td>\n",
       "      <td>69.723804</td>\n",
       "      <td>1</td>\n",
       "      <td>-0.023042</td>\n",
       "      <td>-0.023042</td>\n",
       "    </tr>\n",
       "  </tbody>\n",
       "</table>\n",
       "<p>201 rows × 6 columns</p>\n",
       "</div>"
      ],
      "text/plain": [
       "               AAPL.O       SMA1       SMA2  cross       B&H  Strategy\n",
       "Date                                                                  \n",
       "2012-11-21  80.242777  81.335027  81.052775      1  0.001401  0.001401\n",
       "2012-11-23  81.642776  81.036060  81.160418     -1  0.017297  0.017297\n",
       "2012-11-26  84.218487  80.841061  81.277031     -1  0.031061 -0.031061\n",
       "2012-11-27  83.539916  80.664218  81.391876     -1 -0.008090  0.008090\n",
       "2012-11-28  83.277060  80.513789  81.507429     -1 -0.003151  0.003151\n",
       "...               ...        ...        ...    ...       ...       ...\n",
       "2013-09-04  71.241500  69.999237  70.198437     -1  0.020483 -0.020483\n",
       "2013-09-05  70.752786  70.215594  70.075324      1 -0.006884  0.006884\n",
       "2013-09-06  71.174215  70.481380  69.955991      1  0.005939  0.005939\n",
       "2013-09-09  72.309928  70.850808  69.840559      1  0.015831  0.015831\n",
       "2013-09-10  70.662786  71.045665  69.723804      1 -0.023042 -0.023042\n",
       "\n",
       "[201 rows x 6 columns]"
      ]
     },
     "execution_count": 20,
     "metadata": {},
     "output_type": "execute_result"
    }
   ],
   "source": [
    "data[487:688]"
   ]
  },
  {
   "cell_type": "markdown",
   "metadata": {},
   "source": [
    "- 比較B&H和Strategy的報酬"
   ]
  },
  {
   "cell_type": "code",
   "execution_count": 21,
   "metadata": {},
   "outputs": [
    {
     "data": {
      "text/plain": [
       "<matplotlib.axes._subplots.AxesSubplot at 0x2dd7a1abe20>"
      ]
     },
     "execution_count": 21,
     "metadata": {},
     "output_type": "execute_result"
    },
    {
     "data": {
      "image/png": "[encoded data removed]",
      "text/plain": [
       "<Figure size 1080x720 with 1 Axes>"
      ]
     },
     "metadata": {
      "needs_background": "light"
     },
     "output_type": "display_data"
    }
   ],
   "source": [
    "data[['B&H','Strategy']].cumsum().apply(np.exp).plot(figsize = (15,10))"
   ]
  },
  {
   "cell_type": "markdown",
   "metadata": {},
   "source": [
    "## <5> 分析均線參數「期間」對策略報酬之影響"
   ]
  },
  {
   "cell_type": "markdown",
   "metadata": {},
   "source": [
    "- 工具 from itertools import product : 此工具能幫助我們進行「迭代」這個工作"
   ]
  },
  {
   "cell_type": "markdown",
   "metadata": {},
   "source": [
    "#### (1) SMA1期間長短分別用20到60之間的數字代入，間隔為4 : SMA1參數空間 = 20, 24, 28, ..., 56, 60\n",
    "#### (2) SMA2期間長短分別用180到240之間的數字代入，間隔為10 : SMA2參數空間 = 180, 190, ..., 236, 240"
   ]
  },
  {
   "cell_type": "code",
   "execution_count": 22,
   "metadata": {},
   "outputs": [],
   "source": [
    "from itertools import product \n",
    "sma1 = range(20, 61, 4)\n",
    "sma2 = range(180, 281, 10)"
   ]
  },
  {
   "cell_type": "markdown",
   "metadata": {},
   "source": [
    "- 為避免出現錯誤，將前面的所有程式，從讀取資料~輸出最後結果都重作一遍"
   ]
  },
  {
   "cell_type": "code",
   "execution_count": 23,
   "metadata": {},
   "outputs": [],
   "source": [
    "data = pd.read_csv('data.csv', index_col = 0, parse_dates = True)\n",
    "data = data[['AAPL.O']]\n",
    "data.dropna(inplace = True)"
   ]
  },
  {
   "cell_type": "markdown",
   "metadata": {},
   "source": [
    "- 開始進行迭代"
   ]
  },
  {
   "cell_type": "markdown",
   "metadata": {},
   "source": [
    "- diff : Strategy - B&H\n",
    "    - if diff > 0 , 則Strategy好\n",
    "    - else diff < 0 , 則B&H好"
   ]
  },
  {
   "cell_type": "code",
   "execution_count": 24,
   "metadata": {},
   "outputs": [
    {
     "data": {
      "text/html": [
       "<div>\n",
       "<style scoped>\n",
       "    .dataframe tbody tr th:only-of-type {\n",
       "        vertical-align: middle;\n",
       "    }\n",
       "\n",
       "    .dataframe tbody tr th {\n",
       "        vertical-align: top;\n",
       "    }\n",
       "\n",
       "    .dataframe thead th {\n",
       "        text-align: right;\n",
       "    }\n",
       "</style>\n",
       "<table border=\"1\" class=\"dataframe\">\n",
       "  <thead>\n",
       "    <tr style=\"text-align: right;\">\n",
       "      <th></th>\n",
       "      <th>SMA1</th>\n",
       "      <th>SMA2</th>\n",
       "      <th>B&amp;H</th>\n",
       "      <th>Strategy</th>\n",
       "      <th>diff</th>\n",
       "    </tr>\n",
       "  </thead>\n",
       "  <tbody>\n",
       "    <tr>\n",
       "      <th>0</th>\n",
       "      <td>20</td>\n",
       "      <td>180</td>\n",
       "      <td>4.574979</td>\n",
       "      <td>4.326431</td>\n",
       "      <td>-0.248548</td>\n",
       "    </tr>\n",
       "    <tr>\n",
       "      <th>1</th>\n",
       "      <td>20</td>\n",
       "      <td>190</td>\n",
       "      <td>3.983312</td>\n",
       "      <td>4.470336</td>\n",
       "      <td>0.487024</td>\n",
       "    </tr>\n",
       "    <tr>\n",
       "      <th>2</th>\n",
       "      <td>20</td>\n",
       "      <td>200</td>\n",
       "      <td>2.044835</td>\n",
       "      <td>2.659806</td>\n",
       "      <td>0.614970</td>\n",
       "    </tr>\n",
       "    <tr>\n",
       "      <th>3</th>\n",
       "      <td>20</td>\n",
       "      <td>210</td>\n",
       "      <td>2.767441</td>\n",
       "      <td>2.690656</td>\n",
       "      <td>-0.076785</td>\n",
       "    </tr>\n",
       "    <tr>\n",
       "      <th>4</th>\n",
       "      <td>20</td>\n",
       "      <td>220</td>\n",
       "      <td>2.360153</td>\n",
       "      <td>2.672529</td>\n",
       "      <td>0.312376</td>\n",
       "    </tr>\n",
       "    <tr>\n",
       "      <th>...</th>\n",
       "      <td>...</td>\n",
       "      <td>...</td>\n",
       "      <td>...</td>\n",
       "      <td>...</td>\n",
       "      <td>...</td>\n",
       "    </tr>\n",
       "    <tr>\n",
       "      <th>116</th>\n",
       "      <td>60</td>\n",
       "      <td>240</td>\n",
       "      <td>1.000000</td>\n",
       "      <td>1.000000</td>\n",
       "      <td>0.000000</td>\n",
       "    </tr>\n",
       "    <tr>\n",
       "      <th>117</th>\n",
       "      <td>60</td>\n",
       "      <td>250</td>\n",
       "      <td>1.000000</td>\n",
       "      <td>1.000000</td>\n",
       "      <td>0.000000</td>\n",
       "    </tr>\n",
       "    <tr>\n",
       "      <th>118</th>\n",
       "      <td>60</td>\n",
       "      <td>260</td>\n",
       "      <td>1.000000</td>\n",
       "      <td>1.000000</td>\n",
       "      <td>0.000000</td>\n",
       "    </tr>\n",
       "    <tr>\n",
       "      <th>119</th>\n",
       "      <td>60</td>\n",
       "      <td>270</td>\n",
       "      <td>1.000000</td>\n",
       "      <td>1.000000</td>\n",
       "      <td>0.000000</td>\n",
       "    </tr>\n",
       "    <tr>\n",
       "      <th>120</th>\n",
       "      <td>60</td>\n",
       "      <td>280</td>\n",
       "      <td>1.000000</td>\n",
       "      <td>1.000000</td>\n",
       "      <td>0.000000</td>\n",
       "    </tr>\n",
       "  </tbody>\n",
       "</table>\n",
       "<p>121 rows × 5 columns</p>\n",
       "</div>"
      ],
      "text/plain": [
       "     SMA1  SMA2       B&H  Strategy      diff\n",
       "0      20   180  4.574979  4.326431 -0.248548\n",
       "1      20   190  3.983312  4.470336  0.487024\n",
       "2      20   200  2.044835  2.659806  0.614970\n",
       "3      20   210  2.767441  2.690656 -0.076785\n",
       "4      20   220  2.360153  2.672529  0.312376\n",
       "..    ...   ...       ...       ...       ...\n",
       "116    60   240  1.000000  1.000000  0.000000\n",
       "117    60   250  1.000000  1.000000  0.000000\n",
       "118    60   260  1.000000  1.000000  0.000000\n",
       "119    60   270  1.000000  1.000000  0.000000\n",
       "120    60   280  1.000000  1.000000  0.000000\n",
       "\n",
       "[121 rows x 5 columns]"
      ]
     },
     "execution_count": 24,
     "metadata": {},
     "output_type": "execute_result"
    }
   ],
   "source": [
    "results = pd.DataFrame()   #  先建立一個空的df，用以儲存最後結果\n",
    "\n",
    "for SMA1,SMA2 in product(sma1,sma2) :\n",
    "    \n",
    "    data['SMA1'] = data['AAPL.O'].rolling(window = SMA1).mean()\n",
    "    data['SMA2'] = data['AAPL.O'].rolling(window = SMA2).mean()\n",
    "    data.dropna(inplace = True)\n",
    "    \n",
    "    data['cross'] = np.where( data['SMA1'] > data['SMA2'], 1, -1)\n",
    "    data['B&H'] = np.log( data['AAPL.O'] / data['AAPL.O'].shift(1) )\n",
    "    data['Strategy'] = data['cross'].shift(1)* data['B&H']\n",
    "    data.dropna(inplace = True)\n",
    "    \n",
    "    temp = np.exp( data[['B&H','Strategy']].sum() )\n",
    "    \n",
    "    results = results.append(pd.DataFrame({'SMA1':SMA1,\n",
    "                                           'SMA2':SMA2,\n",
    "                                           'B&H':temp['B&H'],\n",
    "                                           'Strategy':temp['Strategy'],\n",
    "                                           'diff':temp['Strategy'] - temp['B&H']\n",
    "                                          },\n",
    "                                          index = [0],   # 除錯用，若不加這行會報錯 : df缺少index\n",
    "                                         ),\n",
    "                             ignore_index = True  # 若不佳，df每個index皆為0\n",
    "                            )\n",
    "    \n",
    "results"
   ]
  }
 ],
 "metadata": {
  "kernelspec": {
   "display_name": "Python 3 (ipykernel)",
   "language": "python",
   "name": "python3"
  },
  "language_info": {
   "codemirror_mode": {
    "name": "ipython",
    "version": 3
   },
   "file_extension": ".py",
   "mimetype": "text/x-python",
   "name": "python",
   "nbconvert_exporter": "python",
   "pygments_lexer": "ipython3",
   "version": "3.10.11"
  }
 },
 "nbformat": 4,
 "nbformat_minor": 4
}
